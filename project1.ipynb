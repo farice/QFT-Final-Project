{
 "cells": [
  {
   "cell_type": "markdown",
   "metadata": {},
   "source": [
    "# Project 1\n",
    "\n",
    "Faris Sbahi"
   ]
  },
  {
   "cell_type": "markdown",
   "metadata": {},
   "source": [
    "In this project, we will study a $d$ dimensional scalar field theory on the lattice.\n",
    "\n",
    "Define the lattice action\n",
    "\n",
    "$$\n",
    "S^l_E = \\sum_x \\{ \\frac{1}{2} \\chi_x^2 - \\frac{\\kappa}{2} \\sum_{\\mu} \\chi_x \\chi_{x + \\hat{\\mu}} + g \\chi_x^4 \\}\n",
    "$$\n",
    "\n",
    "$$\n",
    "\\kappa^{-1} := 2d + \\alpha \\\\\n",
    "\\alpha := (m_0a)^2\n",
    "$$\n",
    "\n",
    "where $m_0$ is the bare lattice mass term and $a$ is the lattice spacing.\n",
    "\n",
    "First, fix $g=0$. We wish to compute \n",
    "\n",
    "$$\n",
    "\\sigma = \\frac{1}{L^d}\\sum_x \\langle \\chi^2_x \\rangle\n",
    "$$\n",
    "\n",
    "By definition,\n",
    "\n",
    "$$\n",
    "\\langle \\phi(x) \\phi(y)\\rangle = \\frac{1}{Z} \\int [d \\phi] e^{-S_E(\\phi)} \\phi(x) \\phi(y)\n",
    "$$\n",
    "\n",
    "where \n",
    "\n",
    "\n",
    "$$\n",
    "Z = \\int [d\\phi] e^{-S_E(\\phi)}\n",
    "$$\n",
    "\n",
    "Hence,\n",
    "\n",
    "$$\n",
    "\\langle \\chi^2_x \\rangle = \\frac{1}{Z}\\int [d \\phi] e^{-S_E(\\phi)} \\chi^2_x\n",
    "$$\n",
    "\n",
    "and we can construct $S$ as a matrix-vector product in terms of $M$\n",
    "\n",
    "$$\n",
    "S_E^l = \\frac{1}{2}\\chi_{i}M_{ij}\\chi_{j}\\\\\n",
    "M_{ij} = - \\kappa \\sum_{\\mu} (\\delta_{i + \\mu, j} + \\delta_{i - \\mu, j}) + \\delta_{ij}\n",
    "$$\n"
   ]
  },
  {
   "cell_type": "markdown",
   "metadata": {},
   "source": [
    "> Note: it takes too long to build it up in $d=4$ so an alternative is recognize that $g=0$, $\\kappa$ nonzero is an NN coupling and Fourier transform to momentum space. There the coupling will be eliminated so you should be able to do a couple of integrals."
   ]
  },
  {
   "cell_type": "code",
   "execution_count": 3,
   "metadata": {
    "collapsed": true
   },
   "outputs": [],
   "source": [
    "import numpy as np"
   ]
  },
  {
   "cell_type": "code",
   "execution_count": 4,
   "metadata": {
    "collapsed": true
   },
   "outputs": [],
   "source": [
    "def m_ij(i, j, L, d, kappa, g):\n",
    "    if i == j:\n",
    "        return 1\n",
    "    \n",
    "    for axis in range(d):\n",
    "        if ((i + L**axis) % (L ** d) == j) or ((i - L**axis) % (L ** d) == j):\n",
    "            return -1 * kappa\n",
    "        \n",
    "    return 0\n",
    "\n",
    "def M_inv(L, d, kappa):\n",
    "    M = np.zeros((L ** d, L ** d))\n",
    "    \n",
    "    for i in range(L**d):\n",
    "        for j in range(L ** d):\n",
    "            M[i, j] = m_ij(i, j, L, d, kappa, g)\n",
    "            \n",
    "    return np.linalg.inv(M)"
   ]
  },
  {
   "cell_type": "code",
   "execution_count": 5,
   "metadata": {
    "collapsed": true
   },
   "outputs": [],
   "source": [
    "g = 0\n",
    "L = 2 ** 4\n",
    "\n",
    "alpha = 0.25"
   ]
  },
  {
   "cell_type": "markdown",
   "metadata": {},
   "source": [
    "# 1. $L = 16, g = 0, \\alpha = 0.25$"
   ]
  },
  {
   "cell_type": "code",
   "execution_count": 89,
   "metadata": {},
   "outputs": [
    {
     "name": "stdout",
     "output_type": "stream",
     "text": [
      "d:  2\n",
      "sigma:  1.6020690583803063 chi:  16.999999999999996 F:  10.565806785026753 M_L:  0.4999999999999997\n",
      "d:  3\n",
      "sigma:  1.3197886806296557 chi:  25.0 F:  15.537951154451697 M_L:  0.5000000000000246\n",
      "d:  4\n"
     ]
    },
    {
     "ename": "KeyboardInterrupt",
     "evalue": "",
     "output_type": "error",
     "traceback": [
      "\u001b[0;31m---------------------------------------------------------------------------\u001b[0m",
      "\u001b[0;31mKeyboardInterrupt\u001b[0m                         Traceback (most recent call last)",
      "\u001b[0;32m<ipython-input-89-4acac751d3bf>\u001b[0m in \u001b[0;36m<module>\u001b[0;34m()\u001b[0m\n\u001b[1;32m      4\u001b[0m     \u001b[0mkappa\u001b[0m \u001b[0;34m=\u001b[0m \u001b[0;36m1\u001b[0m \u001b[0;34m/\u001b[0m \u001b[0;34m(\u001b[0m \u001b[0;36m2\u001b[0m \u001b[0;34m*\u001b[0m \u001b[0md\u001b[0m \u001b[0;34m+\u001b[0m \u001b[0malpha\u001b[0m\u001b[0;34m)\u001b[0m\u001b[0;34m\u001b[0m\u001b[0m\n\u001b[1;32m      5\u001b[0m \u001b[0;34m\u001b[0m\u001b[0m\n\u001b[0;32m----> 6\u001b[0;31m     \u001b[0mG\u001b[0m \u001b[0;34m=\u001b[0m \u001b[0mM_inv\u001b[0m\u001b[0;34m(\u001b[0m\u001b[0mL\u001b[0m\u001b[0;34m,\u001b[0m \u001b[0md\u001b[0m\u001b[0;34m,\u001b[0m \u001b[0mkappa\u001b[0m\u001b[0;34m)\u001b[0m\u001b[0;34m\u001b[0m\u001b[0m\n\u001b[0m\u001b[1;32m      7\u001b[0m \u001b[0;34m\u001b[0m\u001b[0m\n\u001b[1;32m      8\u001b[0m     \u001b[0msigma\u001b[0m \u001b[0;34m=\u001b[0m \u001b[0mnp\u001b[0m\u001b[0;34m.\u001b[0m\u001b[0mtrace\u001b[0m\u001b[0;34m(\u001b[0m\u001b[0mG\u001b[0m\u001b[0;34m)\u001b[0m \u001b[0;34m/\u001b[0m \u001b[0;34m(\u001b[0m\u001b[0mL\u001b[0m \u001b[0;34m**\u001b[0m \u001b[0md\u001b[0m\u001b[0;34m)\u001b[0m\u001b[0;34m\u001b[0m\u001b[0m\n",
      "\u001b[0;32m<ipython-input-4-ee6d2f7fad5b>\u001b[0m in \u001b[0;36mM_inv\u001b[0;34m(L, d, kappa)\u001b[0m\n\u001b[1;32m     14\u001b[0m     \u001b[0;32mfor\u001b[0m \u001b[0mi\u001b[0m \u001b[0;32min\u001b[0m \u001b[0mrange\u001b[0m\u001b[0;34m(\u001b[0m\u001b[0mL\u001b[0m\u001b[0;34m**\u001b[0m\u001b[0md\u001b[0m\u001b[0;34m)\u001b[0m\u001b[0;34m:\u001b[0m\u001b[0;34m\u001b[0m\u001b[0m\n\u001b[1;32m     15\u001b[0m         \u001b[0;32mfor\u001b[0m \u001b[0mj\u001b[0m \u001b[0;32min\u001b[0m \u001b[0mrange\u001b[0m\u001b[0;34m(\u001b[0m\u001b[0mL\u001b[0m \u001b[0;34m**\u001b[0m \u001b[0md\u001b[0m\u001b[0;34m)\u001b[0m\u001b[0;34m:\u001b[0m\u001b[0;34m\u001b[0m\u001b[0m\n\u001b[0;32m---> 16\u001b[0;31m             \u001b[0mM\u001b[0m\u001b[0;34m[\u001b[0m\u001b[0mi\u001b[0m\u001b[0;34m,\u001b[0m \u001b[0mj\u001b[0m\u001b[0;34m]\u001b[0m \u001b[0;34m=\u001b[0m \u001b[0mm_ij\u001b[0m\u001b[0;34m(\u001b[0m\u001b[0mi\u001b[0m\u001b[0;34m,\u001b[0m \u001b[0mj\u001b[0m\u001b[0;34m,\u001b[0m \u001b[0mL\u001b[0m\u001b[0;34m,\u001b[0m \u001b[0md\u001b[0m\u001b[0;34m,\u001b[0m \u001b[0mkappa\u001b[0m\u001b[0;34m,\u001b[0m \u001b[0mg\u001b[0m\u001b[0;34m)\u001b[0m\u001b[0;34m\u001b[0m\u001b[0m\n\u001b[0m\u001b[1;32m     17\u001b[0m \u001b[0;34m\u001b[0m\u001b[0m\n\u001b[1;32m     18\u001b[0m     \u001b[0;32mreturn\u001b[0m \u001b[0mnp\u001b[0m\u001b[0;34m.\u001b[0m\u001b[0mlinalg\u001b[0m\u001b[0;34m.\u001b[0m\u001b[0minv\u001b[0m\u001b[0;34m(\u001b[0m\u001b[0mM\u001b[0m\u001b[0;34m)\u001b[0m\u001b[0;34m\u001b[0m\u001b[0m\n",
      "\u001b[0;32m<ipython-input-4-ee6d2f7fad5b>\u001b[0m in \u001b[0;36mm_ij\u001b[0;34m(i, j, L, d, kappa, g)\u001b[0m\n\u001b[1;32m      4\u001b[0m \u001b[0;34m\u001b[0m\u001b[0m\n\u001b[1;32m      5\u001b[0m     \u001b[0;32mfor\u001b[0m \u001b[0maxis\u001b[0m \u001b[0;32min\u001b[0m \u001b[0mrange\u001b[0m\u001b[0;34m(\u001b[0m\u001b[0md\u001b[0m\u001b[0;34m)\u001b[0m\u001b[0;34m:\u001b[0m\u001b[0;34m\u001b[0m\u001b[0m\n\u001b[0;32m----> 6\u001b[0;31m         \u001b[0;32mif\u001b[0m \u001b[0;34m(\u001b[0m\u001b[0;34m(\u001b[0m\u001b[0mi\u001b[0m \u001b[0;34m+\u001b[0m \u001b[0mL\u001b[0m\u001b[0;34m**\u001b[0m\u001b[0maxis\u001b[0m\u001b[0;34m)\u001b[0m \u001b[0;34m%\u001b[0m \u001b[0;34m(\u001b[0m\u001b[0mL\u001b[0m \u001b[0;34m**\u001b[0m \u001b[0md\u001b[0m\u001b[0;34m)\u001b[0m \u001b[0;34m==\u001b[0m \u001b[0mj\u001b[0m\u001b[0;34m)\u001b[0m \u001b[0;32mor\u001b[0m \u001b[0;34m(\u001b[0m\u001b[0;34m(\u001b[0m\u001b[0mi\u001b[0m \u001b[0;34m-\u001b[0m \u001b[0mL\u001b[0m\u001b[0;34m**\u001b[0m\u001b[0maxis\u001b[0m\u001b[0;34m)\u001b[0m \u001b[0;34m%\u001b[0m \u001b[0;34m(\u001b[0m\u001b[0mL\u001b[0m \u001b[0;34m**\u001b[0m \u001b[0md\u001b[0m\u001b[0;34m)\u001b[0m \u001b[0;34m==\u001b[0m \u001b[0mj\u001b[0m\u001b[0;34m)\u001b[0m\u001b[0;34m:\u001b[0m\u001b[0;34m\u001b[0m\u001b[0m\n\u001b[0m\u001b[1;32m      7\u001b[0m             \u001b[0;32mreturn\u001b[0m \u001b[0;34m-\u001b[0m\u001b[0;36m1\u001b[0m \u001b[0;34m*\u001b[0m \u001b[0mkappa\u001b[0m\u001b[0;34m\u001b[0m\u001b[0m\n\u001b[1;32m      8\u001b[0m \u001b[0;34m\u001b[0m\u001b[0m\n",
      "\u001b[0;31mKeyboardInterrupt\u001b[0m: "
     ]
    }
   ],
   "source": [
    "for d in range(2, 5):\n",
    "    print(\"d: \", d)\n",
    "    \n",
    "    kappa = 1 / ( 2 * d + alpha)\n",
    "    \n",
    "    G = M_inv(L, d, kappa)\n",
    "    \n",
    "    sigma = np.trace(G) / (L ** d)\n",
    "    \n",
    "    chi = np.sum(G) / (L ** d)\n",
    "    \n",
    "    F = np.sum(\n",
    "    [ G[i,j] * np.cos(2 * np.pi * (\n",
    "        (i % L) - (j % L)\n",
    "        ) / L\n",
    "        ) for i in range(L**d) for j in range(L**d)]) / (L**d)\n",
    "    \n",
    "    M_L = 2 * (np.sin(np.pi / L)) / (np.sqrt((chi / F) - 1)) # desire chi/F = 1.61\n",
    "    \n",
    "    print(\"sigma: \", sigma, \"chi: \", chi, \"F: \", F, \"M_L: \", M_L)\n",
    "    \n",
    "    \n",
    "    "
   ]
  },
  {
   "cell_type": "markdown",
   "metadata": {},
   "source": [
    "# $L = 16, g = 0.1, \\alpha = 0.25, \\kappa = 0$"
   ]
  },
  {
   "cell_type": "markdown",
   "metadata": {
    "collapsed": true
   },
   "source": [
    "g = 0.1\n",
    "L = 2 ** 4\n",
    "\n",
    "alpha = 0.25\n",
    "\n",
    "for d in range(2, 5):\n",
    "    print(\"d: \", d)\n",
    "    \n",
    "    kappa = 1 / ( 2 * d + alpha)\n",
    "    \n",
    "    G = M_inv(L, d, kappa, g)\n",
    "    \n",
    "    sigma = np.trace(G) / (L ** d)\n",
    "    \n",
    "    chi = np.sum(G) / (L ** d)\n",
    "    \n",
    "    F = np.sum(\n",
    "    [ G[i,j] * np.cos(2 * np.pi * (\n",
    "        (i % L) - (j % L)\n",
    "        ) / L\n",
    "        ) for i in range(L**d) for j in range(L**d)]) / (L**d)\n",
    "    \n",
    "    M_L = 2 * (np.sin(np.pi / L)) / (np.sqrt((chi / F) - 1)) # desire chi/F = 1.61\n",
    "    \n",
    "    print(\"sigma: \", sigma, \"chi: \", chi, \"F: \", F, \"M_L: \", M_L)"
   ]
  },
  {
   "cell_type": "markdown",
   "metadata": {},
   "source": [
    "$$\n",
    "\\langle \\phi(x) \\phi(y)\\rangle =  \\int [d \\phi] P([\\phi]) \\phi(x) \\phi(y)\n",
    "$$\n",
    "\n",
    "for \n",
    "\n",
    "$$\n",
    "P([\\phi]) = \\frac{e^{-S_E^l(\\phi)}}{Z}\n",
    "$$\n",
    "\n",
    "to simplify take configuration\n",
    "\n",
    "$$\n",
    "\\zeta := [\\phi]\n",
    "$$\n",
    "\n",
    "and\n",
    "\n",
    "$$\n",
    "W(\\zeta) = e^{-S_E^l(\\phi)} \n",
    "$$\n",
    "\n",
    "so that\n",
    "\n",
    "$$\n",
    "P(\\zeta) = \\frac{W(\\zeta)}{\\sum_{\\zeta} W(\\zeta)}\n",
    "$$\n",
    "\n",
    "Now, write\n",
    "\n",
    "$$\n",
    "\\chi_x \\equiv \\rho_x s_x\n",
    "$$\n",
    "\n",
    "with $s_x = sgn(\\chi_x)$. And so\n",
    "\n",
    "$$\n",
    "S_E^l(x) = \\sum_x \\{ \\frac{1}{2} \\rho_x^2 - \\frac{\\kappa}{2} \\sum_{\\mu} \\rho_x \\rho_{x + \\hat{\\mu}}s_x s_{x + \\hat{\\mu}} + g \\rho_x^4 \\}\n",
    "$$\n",
    "\n",
    "For the spin update $\\rho$ is fixed so that\n",
    "\n",
    "$$\n",
    "W(\\zeta) = \\exp(-\\sum_{\\mu} \\rho_x \\rho_{x + \\hat{\\mu}}s_x s_{x + \\hat{\\mu}})\n",
    "$$\n",
    "\n",
    "and so the spin update for $T$ has the following algorithm:\n",
    "\n",
    "1. Keep two lists: sites_visited, sites_visited_flag\n",
    "\n",
    "2. Initialize: pick site at random\n",
    "    - add to sites_visited\n",
    "    - mark as visited with flag\n",
    "    \n",
    "3. Go over all visited sites and look over all neighboring directions. Let the visted site have spin $s_1$ and its neighbor $s_2$:\n",
    "    - if $s_1 \\neq s_2$ do nothing\n",
    "    - if $s_1 = s_2$ then with probability $1-\\exp(-2 \\kappa \\rho_x \\rho_y)$\n",
    "\n",
    "4. Repeat for all site in sites_visited\n",
    "\n",
    "5. When all sites of sites_visisted have been exhausted, then flip the signs of all on sites_visited_flag\n",
    "\n",
    "Now, for the regular update let us define a constant (recalling that we update one site at a time)\n",
    "\n",
    "$$\n",
    "\\alpha := \\kappa \\sum_{x, \\hat{\\mu}} (\\chi_{x + \\hat{\\mu}} + \\chi_{x - \\hat{\\mu}})\n",
    "$$\n",
    "\n",
    "and hence, up to a constant,\n",
    "\n",
    "$$\n",
    "W(\\zeta) = \\exp(-\\frac{1}{2} (\\chi_x - \\alpha)^2 - g \\chi_x^4)\n",
    "$$\n",
    "\n"
   ]
  },
  {
   "cell_type": "code",
   "execution_count": 22,
   "metadata": {
    "collapsed": true
   },
   "outputs": [],
   "source": [
    "def get_neighbors(idx):\n",
    "    n = [(idx + direction * (L ** dim)) % (L ** d) for direction in [-1, 1] for dim in range(d)]\n",
    "    return n\n",
    "\n",
    "def spin_update():\n",
    "    sites_visited = []\n",
    "    sites_visited_flag = set()\n",
    "\n",
    "    init = np.random.randint(0, high = L ** d - 1)\n",
    "\n",
    "    sites_visited.append(init)\n",
    "    sites_visited_flag.add(init)\n",
    "\n",
    "    while (len(sites_visited) != 0 and len(sites_visited_flag) != L ** d):\n",
    "        idx = sites_visited.pop()\n",
    "        for nbr_idx in get_neighbors(idx):\n",
    "            #print(\"checking spin for time dim: \", idx % L, nbr_idx % L)\n",
    "            #print(\"sites visited: \", sites_visited_flag, lattice_signs[nbr_idx], lattice_signs[idx])\n",
    "            #print(nbr_idx not in sites_visited_flag and lattice_signs[nbr_idx] == lattice_signs[idx])\n",
    "            if nbr_idx not in sites_visited_flag and lattice_signs[nbr_idx] == lattice_signs[idx]:\n",
    "                #print(nbr_idx)\n",
    "                \n",
    "                prob = 1 - np.exp(- 2 * kappa * lattice_rad[idx] * lattice_rad[nbr_idx])\n",
    "                s = np.random.random()\n",
    "                #print(s, prob)\n",
    "                if s <= prob:\n",
    "                    #print(\"added time dim: \", idx % L, nbr_idx % L)\n",
    "                    sites_visited.append(nbr_idx)\n",
    "                    sites_visited_flag.add(nbr_idx)\n",
    "\n",
    "    return init, sites_visited_flag\n",
    "\n",
    "def update_spin_at_sites(sites):\n",
    "    for idx in sites:\n",
    "        lattice_signs[idx] = -1 * lattice_signs[idx]\n",
    "\n",
    "def regular_update(g):\n",
    "    for idx in range(L ** d):\n",
    "        gauss = np.random.randn()\n",
    "        \n",
    "        nbrs = get_neighbors(idx)\n",
    "        alpha = kappa * np.dot(lattice_rad[nbrs], lattice_signs[nbrs])\n",
    "        \n",
    "        new_chi = alpha + gauss\n",
    "        \n",
    "        s = np.random.uniform()\n",
    "        prob = np.exp(-g * (new_chi ** 4 - lattice_rad[idx] ** 4))\n",
    "        \n",
    "        if g == 0 or s <= prob: \n",
    "            lattice_rad[idx] = np.abs(new_chi)\n",
    "            lattice_signs[idx] = np.sign(new_chi)"
   ]
  },
  {
   "cell_type": "code",
   "execution_count": 28,
   "metadata": {},
   "outputs": [],
   "source": [
    "def compute_sigma():\n",
    "    return np.sum(lattice_rad ** 2) / (L ** d)\n",
    "\n",
    "def compute_chi(x, sites=None):\n",
    "    if sites is None:\n",
    "        return np.sum([ x*y for x in lattice_rad for y in lattice_rad ]) / L**d\n",
    "\n",
    "    rho_x = lattice_rad[x]\n",
    "    return np.sum(rho_x * lattice_rad[list(sites)])\n",
    "\n",
    "def compute_F(x, sites=None):\n",
    "    if sites is None:\n",
    "        return np.sum([ lattice_rad[i] * lattice_rad[j] * np.cos(2 * np.pi * (\n",
    "                        (i % L) - (j% L)\n",
    "                        ) / L\n",
    "                        )\n",
    "                       for i in range(L ** d) for j in range(L ** d) ]) / L**d\n",
    "        \n",
    "    rho_x = lattice_rad[x]\n",
    "    \n",
    "    F = np.sum(\n",
    "    [ rho_x * lattice_rad[idx] * np.cos(2 * np.pi * (\n",
    "        (x % L) - (idx % L)\n",
    "        ) / L\n",
    "        ) for idx in sites])\n",
    "    return F\n",
    "    "
   ]
  },
  {
   "cell_type": "markdown",
   "metadata": {},
   "source": [
    "# 2. $L = 16, g = 0, \\alpha = 0.25$"
   ]
  },
  {
   "cell_type": "code",
   "execution_count": 29,
   "metadata": {},
   "outputs": [
    {
     "name": "stdout",
     "output_type": "stream",
     "text": [
      "d:  2\n",
      "g:  0.0\n"
     ]
    },
    {
     "ename": "KeyboardInterrupt",
     "evalue": "",
     "output_type": "error",
     "traceback": [
      "\u001b[0;31m---------------------------------------------------------------------------\u001b[0m",
      "\u001b[0;31mKeyboardInterrupt\u001b[0m                         Traceback (most recent call last)",
      "\u001b[0;32m<ipython-input-29-82c8f00705e1>\u001b[0m in \u001b[0;36m<module>\u001b[0;34m()\u001b[0m\n\u001b[1;32m     38\u001b[0m \u001b[0;34m\u001b[0m\u001b[0m\n\u001b[1;32m     39\u001b[0m             \u001b[0mupdate_spin_at_sites\u001b[0m\u001b[0;34m(\u001b[0m\u001b[0msites\u001b[0m\u001b[0;34m)\u001b[0m\u001b[0;34m\u001b[0m\u001b[0m\n\u001b[0;32m---> 40\u001b[0;31m             \u001b[0mregular_update\u001b[0m\u001b[0;34m(\u001b[0m\u001b[0mg\u001b[0m\u001b[0;34m)\u001b[0m\u001b[0;34m\u001b[0m\u001b[0m\n\u001b[0m\u001b[1;32m     41\u001b[0m \u001b[0;34m\u001b[0m\u001b[0m\n\u001b[1;32m     42\u001b[0m             \u001b[0msigma_i\u001b[0m \u001b[0;34m=\u001b[0m \u001b[0mcompute_sigma\u001b[0m\u001b[0;34m(\u001b[0m\u001b[0;34m)\u001b[0m\u001b[0;34m\u001b[0m\u001b[0m\n",
      "\u001b[0;32m<ipython-input-22-a11ff72d5cd7>\u001b[0m in \u001b[0;36mregular_update\u001b[0;34m(g)\u001b[0m\n\u001b[1;32m     40\u001b[0m \u001b[0;34m\u001b[0m\u001b[0m\n\u001b[1;32m     41\u001b[0m         \u001b[0mnbrs\u001b[0m \u001b[0;34m=\u001b[0m \u001b[0mget_neighbors\u001b[0m\u001b[0;34m(\u001b[0m\u001b[0midx\u001b[0m\u001b[0;34m)\u001b[0m\u001b[0;34m\u001b[0m\u001b[0m\n\u001b[0;32m---> 42\u001b[0;31m         \u001b[0malpha\u001b[0m \u001b[0;34m=\u001b[0m \u001b[0mkappa\u001b[0m \u001b[0;34m*\u001b[0m \u001b[0mnp\u001b[0m\u001b[0;34m.\u001b[0m\u001b[0mdot\u001b[0m\u001b[0;34m(\u001b[0m\u001b[0mlattice_rad\u001b[0m\u001b[0;34m[\u001b[0m\u001b[0mnbrs\u001b[0m\u001b[0;34m]\u001b[0m\u001b[0;34m,\u001b[0m \u001b[0mlattice_signs\u001b[0m\u001b[0;34m[\u001b[0m\u001b[0mnbrs\u001b[0m\u001b[0;34m]\u001b[0m\u001b[0;34m)\u001b[0m\u001b[0;34m\u001b[0m\u001b[0m\n\u001b[0m\u001b[1;32m     43\u001b[0m \u001b[0;34m\u001b[0m\u001b[0m\n\u001b[1;32m     44\u001b[0m         \u001b[0mnew_chi\u001b[0m \u001b[0;34m=\u001b[0m \u001b[0malpha\u001b[0m \u001b[0;34m+\u001b[0m \u001b[0mgauss\u001b[0m\u001b[0;34m\u001b[0m\u001b[0m\n",
      "\u001b[0;31mKeyboardInterrupt\u001b[0m: "
     ]
    }
   ],
   "source": [
    "N = 5000\n",
    "alpha = 0.25\n",
    "L = 16\n",
    "\n",
    "all_sigmas = []\n",
    "all_chis = []\n",
    "all_Fs = []\n",
    "\n",
    "for g in [0.]: #[0., 0.1]:\n",
    "    for d in [2, 3]: #[2, 3, 4]:\n",
    "        print(\"d: \", d)\n",
    "        print(\"g: \", g)\n",
    "        \n",
    "        sigmas = []\n",
    "        sigma = 0\n",
    "        \n",
    "        chis = []\n",
    "        chi = 0\n",
    "        \n",
    "        Fs = []\n",
    "        F = 0\n",
    "        \n",
    "        kappa = 1 / ( 2 * d + alpha)\n",
    "\n",
    "        lattice_signs = np.ones(L**d, dtype=int)\n",
    "        lattice_rad = np.random.uniform(size=L**d)\n",
    "\n",
    "        for i in range(N):\n",
    "            x, sites = spin_update()\n",
    "            \n",
    "            chi_i = compute_chi(x, sites)\n",
    "            chi += chi_i / N\n",
    "            chis.append(chi_i)\n",
    "            \n",
    "            F_i = compute_F(x, sites)\n",
    "            F += F_i / N\n",
    "            Fs.append(F_i)\n",
    "            \n",
    "            update_spin_at_sites(sites)\n",
    "            regular_update(g)\n",
    "\n",
    "            sigma_i = compute_sigma()\n",
    "            sigma += sigma_i / N\n",
    "            sigmas.append(sigma_i)\n",
    "        \n",
    "        M_L = 2 * (np.sin(np.pi / L)) / (np.sqrt((chi / F) - 1))\n",
    "        \n",
    "        print(\"Sigma: \", sigma)\n",
    "        print(\"Chi: \", chi)\n",
    "        print(\"F \", F)\n",
    "        print(\"M(L): \", M_L)\n",
    "        \n",
    "        all_sigmas.append(sigmas)\n",
    "        all_chis.append(chis)\n",
    "        all_Fs.append(Fs)"
   ]
  },
  {
   "cell_type": "markdown",
   "metadata": {},
   "source": [
    "# $L = 16, g = 0.1, \\alpha = 0.25, \\kappa = 0$"
   ]
  },
  {
   "cell_type": "code",
   "execution_count": 32,
   "metadata": {},
   "outputs": [],
   "source": [
    "import time, sys\n",
    "from IPython.display import clear_output\n",
    "\n",
    "def update_progress(progress):\n",
    "    bar_length = 20\n",
    "    if isinstance(progress, int):\n",
    "        progress = float(progress)\n",
    "    if not isinstance(progress, float):\n",
    "        progress = 0\n",
    "    if progress < 0:\n",
    "        progress = 0\n",
    "    if progress >= 1:\n",
    "        progress = 1\n",
    "        \n",
    "    block = int(round(bar_length * progress))\n",
    "    clear_output(wait = True)\n",
    "    text = \"Progress: [{0}] {1:.1f}%\".format( \"#\" * block + \"-\" * (bar_length - block), progress * 100)\n",
    "    print(text)"
   ]
  },
  {
   "cell_type": "code",
   "execution_count": 44,
   "metadata": {},
   "outputs": [
    {
     "name": "stdout",
     "output_type": "stream",
     "text": [
      "Progress: [####################] 100.0%\n",
      "Sigma:  0.999837514561163\n",
      "Chi:  0.9942822586248108\n",
      "F:  0.9942822586248108\n",
      "M(L):  inf\n",
      "Stored 'all_sigmas' (list)\n",
      "Stored 'all_chis' (list)\n",
      "Stored 'all_Fs' (list)\n",
      "Stored 'all_Ms' (list)\n"
     ]
    },
    {
     "name": "stderr",
     "output_type": "stream",
     "text": [
      "/Users/farissbahi/anaconda/lib/python3.6/site-packages/ipykernel_launcher.py:48: RuntimeWarning: divide by zero encountered in double_scalars\n"
     ]
    }
   ],
   "source": [
    "N = 10000\n",
    "alpha = 0.25\n",
    "L = 16\n",
    "kappa = 0 # no bond term -- no spin updates necessary!\n",
    "\n",
    "all_sigmas = []\n",
    "all_chis = []\n",
    "all_Fs = []\n",
    "all_Ms = []\n",
    "\n",
    "for g in [0.]: #[0., 0.1]:\n",
    "    for d in [2]: #[2, 3, 4]:\n",
    "        print(\"d: \", d)\n",
    "        print(\"g: \", g)\n",
    "        \n",
    "        sigmas = []\n",
    "        sigma = 0\n",
    "        \n",
    "        chis = []\n",
    "        chi = 0\n",
    "        \n",
    "        Fs = []\n",
    "        F = 0\n",
    "\n",
    "        lattice_signs = np.ones(L**d, dtype=int)\n",
    "        lattice_rad = np.random.uniform(size=L**d)\n",
    "\n",
    "        for i in range(N):\n",
    "            x, sites = spin_update()\n",
    "            \n",
    "            chi_i = compute_chi(x, sites)\n",
    "            chi += chi_i / N\n",
    "            chis.append(chi_i)\n",
    "            \n",
    "            F_i = compute_F(x, sites)\n",
    "            F += F_i / N\n",
    "            Fs.append(F_i)\n",
    "            \n",
    "            update_spin_at_sites(sites)\n",
    "            regular_update(g)\n",
    "\n",
    "            sigma_i = compute_sigma()\n",
    "            sigma += sigma_i / N\n",
    "            sigmas.append(sigma_i)\n",
    "            \n",
    "            update_progress(i / N)\n",
    "        \n",
    "        M_L = 2 * (np.sin(np.pi / L)) / (np.sqrt((chi / F) - 1))\n",
    "        \n",
    "        print(\"Sigma: \", sigma)\n",
    "        print(\"Chi: \", chi)\n",
    "        print(\"F: \", F)\n",
    "        print(\"M(L): \", M_L)\n",
    "        \n",
    "        all_sigmas.append(sigmas)\n",
    "        all_chis.append(chis)\n",
    "        all_Fs.append(Fs)\n",
    "        all_Ms.append(M_L)\n",
    "        \n",
    "        %store all_sigmas\n",
    "        %store all_chis\n",
    "        %store all_Fs\n",
    "        %store all_Ms"
   ]
  },
  {
   "cell_type": "code",
   "execution_count": 43,
   "metadata": {},
   "outputs": [
    {
     "data": {
      "image/png": "[encoded data removed]",
      "text/plain": [
       "<Figure size 432x288 with 1 Axes>"
      ]
     },
     "metadata": {},
     "output_type": "display_data"
    }
   ],
   "source": [
    "import matplotlib.pyplot as plt\n",
    "\n",
    "plt.figure()\n",
    "plt.plot(chis)\n",
    "plt.show()"
   ]
  },
  {
   "cell_type": "code",
   "execution_count": 38,
   "metadata": {},
   "outputs": [
    {
     "name": "stdout",
     "output_type": "stream",
     "text": [
      "[[64.51251473382581, 167.63170511780066, 157.6098444480898, 180.8408545631586, 179.5269589686893, 168.447612513168, 188.37671378817018, 164.70712702167788, 158.38777548863803, 155.427469276541, 163.86694194084592, 159.93998115501404, 167.63456839235573, 157.76395514338452, 158.98795009880712, 157.07557663735724, 176.41714665306344, 138.98002425754015, 133.18334048514572, 154.85217148783644, 173.81640353598334, 158.47369475068152, 173.8721025494234, 169.55912359302914, 146.63561690065592, 159.05117950077152, 155.39917583156742, 176.1075299827983, 183.23453012009992, 158.3517196821827, 151.76107698063328, 160.56953089032518, 142.75562111948287, 167.1080008508896, 171.26169303685037, 148.49362702013804, 152.95517362145762, 170.4724903995975, 180.79673055897499, 156.93537483645318, 145.3523514965072, 161.4158867060769, 177.14624877393624, 145.6684372027182, 184.30812448321552, 171.7256512003467, 156.40132582302832, 171.47290955755966, 149.48777262603636, 174.67910617919512, 151.6558237642681, 176.84296792202167, 170.46347919057237, 163.1503053309726, 175.47076441112876, 173.215962126525, 145.03472135313962, 182.3264495784714, 168.99752175059257, 168.3918627755483, 143.39378502316282, 188.38551767892145, 155.7912166223242, 161.35468318239512, 157.23126696620307, 192.32732352840688, 152.13535561941316, 151.408441171188, 165.62888932745167, 149.49917126660358, 173.29171378339555, 139.73056463142746, 159.52317048867133, 153.05975144750082, 188.1088855281217, 151.32524745194397, 164.97893056932614, 169.89624226213695, 158.0740811499981, 169.0116586910101, 165.4248179045196, 161.08945474567432, 151.59002216681938, 159.94019972005694, 185.72004591451505, 162.35025393017716, 145.83165346093296, 169.35744676740467, 180.6888703085741, 177.49609340054747, 142.53964205258254, 193.97537528773466, 124.02400967571747, 151.51504533183538, 194.02687303607343, 138.32952966703067, 152.99523480455647, 171.93250828617846, 140.1277809160756, 142.58940737647814, 148.86171523601195, 176.3908652546615, 158.27308826477727, 148.06035372068638, 168.36896560513023, 186.72697995785208, 185.17586732224038, 168.11796594442092, 145.01930872447406, 177.55252986917716, 191.9397210765868, 145.039865925576, 183.41228151158572, 170.2035386629716, 187.34801113589677, 164.14393086017924, 136.10397970727942, 194.38783228960165, 162.49723730932627, 168.3379294518682, 161.39832008516723, 141.88853504544113, 141.94650125950096, 178.7186860779329, 156.59229748620263, 152.3234739671666, 151.57273457759246, 176.93607098045777, 180.22679866364444, 164.96450886101846, 146.5547588307536, 155.1381473183162, 181.202550164411, 161.33667740763588, 152.98605812382232, 165.3081497400904, 151.3726058718909, 182.97711960881367, 170.2451719052449, 168.89275857038803, 182.91855393394084, 174.81126132458468, 145.66202403600616, 154.06715083460776, 156.87752933311947, 169.73111230223986, 144.40184417067266, 160.5887234463553, 143.52979617265237, 169.13140709361153, 163.37921441354854, 152.91470080626826, 155.05186927787778, 165.88466358288858, 164.48525276183807, 145.8559679500885, 177.69220827732752, 177.95027069837295, 166.71623414426747, 153.89628072295494, 122.28531435078158, 146.49888560119666, 125.84359160419767, 144.4932103438818, 160.5435553438311, 155.13739425707752, 145.0668958666269, 153.62309422451062, 149.1962644668339, 170.77626314244358, 170.70764649429753, 169.1984959835973, 167.622677515202, 183.88785353825875, 158.31484651155372, 175.80485048053606, 183.8721545017972, 161.57658847631257, 165.18882616196308, 170.36451638735937, 155.69167325865266, 142.64759682884073, 165.78533009190784, 155.80382422954676, 157.88583524104135, 152.0050543287524, 154.7377660463098, 157.70910386570688, 172.67518044191667, 138.8471606397414, 157.89380905900725, 176.27837475519155, 150.25147276391547, 191.69896419007364, 160.33852605162332, 168.18657490395788, 172.995425974283, 142.54880015041041, 153.16285593009425, 152.77225590179913, 163.22188337843446, 183.4232639481876, 188.60789258530065, 175.6406133779106, 162.92592646314307, 175.79300834576387, 141.96872032376461, 156.81814007784746, 168.0446437975569, 161.71363874625862, 156.05590220947988, 154.52557176291594, 181.33679122820106, 147.69343780600462, 150.84170282746095, 165.37222784461042, 150.10141817857763, 135.59372729273696, 167.28496929875158, 168.68127313282235, 154.24404563487923, 162.01601270368644, 162.003072747149, 165.98497295676137, 151.5929790175067, 153.9259626584332, 151.97914232737654, 162.58013111779732, 174.8413641156557, 145.7333627377064, 175.59500766411145, 168.77294445285202, 177.87727586213222, 172.7433131278344, 156.53054137599477, 150.942075881595, 170.3467908973226, 170.4018516365223, 175.47889824094926, 175.85859973761916, 166.1515105075441, 191.92768359699178, 140.82475029242678, 185.44347577632357, 159.00352795559596, 176.42739348964483, 157.88773448327578, 151.1945585976405, 165.73158977876773, 172.9352090691103, 162.59351311893332, 158.1233550943775, 155.28041268480695, 140.21910214477617, 179.57053501992203, 147.1237336987526, 176.22256149149507, 159.67138979076984, 147.8398862126942, 136.9485966750361, 178.6200058030926, 168.63308863462757, 176.25926923461594, 159.57802895293253, 148.85297528340504, 166.32061205975137, 182.52116964300615, 183.16940190601753, 168.82565714017733, 148.73260019421525, 169.79084579702112, 173.48422698387736, 170.26181171631475, 131.3161347638766, 126.347899562569, 143.36245842490433, 149.39245950212677, 169.4360833648723, 179.195461387127, 153.62206445298975, 172.9229718570994, 165.2814314108945, 147.663294736673, 177.1410180151737, 164.33206440789095, 158.72519511331268, 140.58508408935322, 175.69230064918054, 163.47815144646125, 179.44584829550814, 143.91998775865204, 178.7745481405167, 154.30563736032047, 164.61843713823683, 148.57047079924004, 179.08563734384032, 178.7357179416457, 153.09126302547992, 167.27592828863467, 168.19381543118408, 159.13669489502047, 169.83065695338564, 148.1517981641441, 176.17314864083582, 158.9392820936387, 160.66068877001794, 175.5566549975234, 147.87651794065812, 151.43155703813034, 175.64806302388382, 182.27884439858673, 178.72715866883522, 162.20016904155833, 162.1994249615521, 164.4468512971888, 149.56356650704566, 157.94695608930022, 166.59648151077488, 179.18609176749192, 157.69696824399566, 167.27348384227534, 212.42211925230498, 166.8826256073631, 165.01374284437813, 148.23815185497685, 159.29589636449728, 169.91067990158268, 163.1125898619178, 167.4372152469689, 157.69154341759457, 155.80875927993233, 152.37488921586328, 157.50657622447403, 181.64065272640954, 164.1372636403815, 154.20858494673908, 165.2984382651644, 164.19916123426586, 149.5995310080255, 192.6158404257417, 145.59341031190087, 178.44177021702538, 173.89529773356486, 158.33315475555563, 183.88799552502164, 173.66317130422993, 173.68158862515423, 160.28692660840005, 167.16482209292948, 168.99308078261362, 160.44501799719288, 149.8878272896735, 163.3424176873635, 171.04827102448027, 172.6003970226427, 145.93966991137052, 168.50756671063033, 163.95155154924822, 143.1809291231238, 180.84450917793546, 185.93381125568635, 153.51798116732772, 160.20006401258092, 151.67322783718657, 170.48164737401237, 176.95984991539694, 170.28797385546284, 167.97754314481415, 171.5221727537413, 157.46800918328347, 143.34881525983758, 144.44562243027255, 153.5716225627592, 166.08745999472973, 153.9359335181491, 160.04570927696244, 162.99658003263204, 185.52758236830047, 160.62502857437244, 170.60594098705724, 169.50780942541016, 163.71178253497416, 169.97568117776677, 151.8092864079584, 177.02415612167061, 146.52887063908636, 178.39393018219516, 160.82149430205806, 158.47961430308055, 162.63950793357733, 160.00070798672897, 185.05203974564392, 173.95564853924137, 175.22316812677946, 206.96266672511766, 148.67552234082828, 172.41564433020005, 164.4484758395175, 191.5839412494964, 169.08009629795495, 167.3327291766169, 144.66596268326828, 155.3140981881009, 162.50929199801988, 152.3958232284633, 171.36599718777973, 158.2574005279328, 162.30790124663434, 148.33727021888996, 151.79008063090444, 162.75998940033156, 138.4601422418633, 154.83903881328646, 172.1983015332227, 161.32136263952762, 183.16508131653714, 158.17411940975953, 153.04633211915473, 167.28389984601327, 133.5748436452635, 147.71477885655997, 137.2495115100508, 161.2157480665563, 160.8630655232469, 147.82377078615474, 186.28598970531496, 158.7748142745752, 178.66877120289539, 167.83889581831522, 187.22280372054388, 151.08714481193044, 172.40546692063964, 130.50005412867634, 152.638722298201, 144.97874151314875, 164.07256559663247, 155.4075104959398, 148.8154478688964, 149.55413956266264, 176.18399057368333, 186.60428390261833, 151.16103145563252, 156.20708348259694, 146.3536855017439, 160.14677668683666, 162.62965869468428, 143.13926833147846, 142.3523210065544, 142.148435160597, 162.3977086034775, 167.8552593350433, 143.0544116216213, 144.01524274917077, 184.4466674311959, 149.18648436653862, 158.56641819823244, 168.07846097240343, 153.79928265270084, 159.93779594371634, 166.54114279646677, 152.95891624673766, 147.4717354866546, 144.34748522751303, 175.41589133173937, 142.83427327041971, 160.1108254594979, 160.29960644723096, 175.1172838004781, 173.4226762216466, 187.63731914969395, 156.87527127927106, 160.02951933491326, 143.59133050886552, 168.3840756995649, 161.82882655376696, 196.43249705866077, 178.15331974014617, 154.98452853491023, 144.13012495634354, 141.00808885302328, 166.15588876592008, 165.73844516578777, 187.13058265744831, 146.03009695922597, 163.85749733505952, 201.11916757473728, 153.83176553877297, 136.63900351812492, 181.9768302317267, 185.8144614304949, 175.34118096242742, 173.05363927373497, 185.57373730282575, 171.17405012378265, 120.54506414594049, 177.73788904989846, 163.24359105174693, 182.12191780462499, 162.58597905546367, 172.3412034070597, 165.43549625381445, 150.62008417934743, 162.47309764857056, 170.87312824353376, 163.72171774487208, 161.83673797478806, 137.31399098875465, 143.31763527143661, 168.20164059831114, 179.48722366180834, 171.2084591202949, 167.10549250108528, 159.9391075553732, 180.18579556303217, 153.68312650417934, 130.78507467756256, 156.62140122296032, 164.54664023034957, 178.88634274199376, 158.0285871490054, 154.74140638135583, 175.96793621077285, 145.62145701572365, 151.17833879335356, 162.78977926823723, 157.2516404252192, 151.23982198555103, 148.74222549163798, 158.72118388259827, 161.8032428573431, 171.24252217459568, 190.77836164102428, 168.09896730863875, 135.7309567465357, 138.31129877594884, 198.30709698690143, 165.8835469226085, 152.24368823065657, 133.75207770233473, 137.93496882214575, 157.84632992836575, 180.18985694659145, 145.7375507618613, 143.76473631364038, 167.16619756122407, 144.05561941266637, 187.27693468974525, 170.79824492836514, 185.86116638759148, 162.47151293455534, 177.60831606263378, 165.30412519740943, 168.3958658459083, 173.35620824258189, 161.80393634337509, 153.7110407591363, 154.59234060593008, 158.0490643795417, 155.113691924986, 157.37410252230134, 168.91866401680426, 166.10197880304847, 158.55345622668165, 167.4756617808077, 158.5775215811588, 164.56431094707835, 145.94002521589866, 170.81050246806535, 152.7334832089107, 189.1135589350743, 145.8082455153016, 161.6599214755484, 194.7673420549991, 190.2023328299196, 173.22642122790515, 154.69676969011653, 138.22359727567587, 156.8141079540711, 197.11418461171806, 194.66343102146135, 175.02168865743587, 170.87116059472277, 181.81091105148465, 177.5350473705741, 185.79947991786952, 166.21139948975375, 182.89574403440847, 173.95837119846487, 166.71478199978867, 128.20489951623145, 192.79881786224894, 147.06001073403922, 173.78629781947865, 153.74815972262599, 161.17947519430993, 171.25981288518906, 215.16295225651055, 173.80269213493852, 159.29844072202982, 144.21918503425667, 162.69234636472981, 142.04706430796165, 182.67222310396542, 157.38718880262806, 191.34056720599457, 155.37854918808696, 137.31583926874112, 161.8157792252743, 151.2857337350242, 164.8573324151436, 162.1114387414858, 162.79286294431282, 175.90536579247967, 182.12085905706567, 153.33170431402073, 151.50211584254023, 177.93005421055452, 140.96991196297245, 157.56833632055583, 149.49737872418802, 170.80174010573324, 164.5266430557243, 172.19106414479546, 169.19556954845262, 154.08123789015227, 173.46318143196004, 161.90319117219258, 192.82095195780272, 144.7206427924582, 165.4684112200482, 180.783633686513, 170.11325306241756, 154.23702615749204, 152.36499389670635, 160.4427925688898, 153.28162381675918, 176.44298262756206, 152.6471700274061, 156.1396231301219, 177.75032956097743, 188.12416962608512, 147.07376733921296, 163.40697909182947, 133.95580197679718, 162.07907494712953, 173.0928075371612, 170.92333341294113, 196.9178040921968, 166.36222111814587, 139.16657730264006, 156.5103170812292, 187.68064497511492, 136.19934227531257, 179.86243697384592, 161.9693618497606, 181.67012001477013, 176.55290807298655, 148.76710230573403, 164.84865963254302, 167.36358107936235, 163.59506546327006, 146.92215215784944, 155.33518956770615, 169.99277892419005, 176.55165104959266, 174.29076417754345, 161.94678975958215, 171.8256281460003, 184.00115545212364, 171.23134540219885, 166.7865629180651, 166.36177553451662, 161.37453709361213, 158.54732996330935, 165.83983360717167, 164.62530497746383, 143.71445746374366, 164.8733137449645, 165.82642664105407, 194.09708450646502, 178.320381187525, 162.62779614831973, 189.72398318771286, 136.86968138858794, 154.83418638345321, 164.32561029779646, 184.26171713400834, 149.07266178318176, 176.57888899571645, 165.1564978746771, 158.5232041675147, 175.63124466277142, 162.26230107000788, 156.72916977739092, 154.33736070458357, 197.4405140236025, 150.5526796969712, 166.81851507212366, 162.15151295934388, 161.24664529121657, 164.0632205585011, 171.53794934776354, 176.52222836199923, 171.85803276521696, 155.6969330773349, 165.12559937775077, 157.422322003788, 167.62598306732946, 165.02924404507624, 147.59483811498177, 138.52177601936768, 151.2703506987115, 179.20343216192293, 155.523804532154, 146.23800912280018, 180.38708837927086, 157.56369896457292, 170.83415835877219, 181.09838982631783, 165.41022037489125, 136.08145878866236, 159.99067031558104, 152.24537218051327, 150.94491510341393, 156.12019514675063, 180.5563258480132, 157.24610665610507, 163.58770173939152, 151.76493672108506, 147.33411241036418, 174.38701004150187, 181.39799269252893, 163.90018709112184, 162.25244298118773, 176.0233691635286, 153.00897408820438, 169.47759002401017, 171.38462870443402, 150.06878294944545, 158.1575222468342, 171.36477185004782, 165.9651423539854, 201.36982852054717, 177.22579640620643, 138.26907067224266, 184.03370696077644, 164.48195850176967, 166.20282076228006, 169.2124597953218, 164.50790462443825, 154.56447528867983, 143.4402898199108, 153.01255601154392, 153.5070067902423, 181.86901763787174, 150.66077480496594, 194.22790514594533, 177.40757641019576, 148.4908334152665, 182.75171836238297, 164.4614254702579, 184.41006969669564, 146.12545492319316, 179.43479973390887, 175.6499216213325, 179.49902993842807, 172.77118349158022, 154.34936127356835, 169.46871129458492, 169.4734385300025, 164.00269387102577, 175.71910964313292, 173.501177788791, 174.4632934013053, 171.55985411756967, 175.5183599464266, 153.0458643788329, 147.5507731466243, 168.49653102738122, 165.96738895980684, 178.25970107841474, 167.72078313626108, 145.3348944304806, 147.6928126669594, 162.02690574183012, 169.7276174466162, 153.62191540536247, 176.20002272425947, 169.9949157768083, 152.46672347956357, 187.5657282979598, 139.00883492656627, 179.05928920904512, 190.4768751220279, 176.61395997010987, 162.70760268598113, 146.7402655189522, 165.45845834759064, 145.8739409916591, 152.59338329992207, 167.76804851753445, 185.13056081007892, 176.0195490902409, 167.01560488413162, 164.79032306778328, 135.69396599618355, 169.11897323661398, 148.39711670006295, 173.7539306961768, 163.6802032389407, 140.0871488716572, 159.04347013361706, 176.30403812606724, 186.16082254091657, 175.52867036004136, 167.267229630585, 163.54947188015626, 178.86291540823424, 172.73385801356253, 159.86051100210187, 176.28656203241252, 178.02692616978493, 163.60335867273244, 189.8097431716387, 188.29751488649006, 169.78269771696176, 157.4556902545035, 175.32787997329612, 157.5125458878036, 151.51445408666555, 171.71745661908943, 169.77102329984328, 146.58904272760546, 168.69600814685163, 144.6953552363368, 163.54974511199026, 159.03276574281685, 177.82832566750392, 164.82513296605882, 168.69143194758678, 157.67842830952029, 174.4315712185434, 164.97273905172517, 150.86785903879255, 144.24081215909632, 182.6097450068905, 144.5320513204364, 158.71668887988346, 164.3607719289341, 196.32869206169474, 176.0501472122937, 139.56320169076028, 151.9330250638244, 149.71670340840558, 191.23243380116423, 167.06295527850992, 179.9442005029102, 168.64135315355443, 177.21446873729602, 144.9669902773012, 162.4030999684593, 151.50116589765264, 165.3565398205656, 137.75010600775678, 155.52539450419025, 159.4961062721636, 154.36663595154803, 142.07826077825626, 157.80571369503383, 161.13641506105108, 152.84861624239366, 174.19306376739655, 154.86884260380737, 164.11840385609165, 163.94452987212762, 196.99568125622395, 184.52022225677206, 172.3920871119377, 179.6785272259074, 154.45320604305473, 189.20805902963372, 168.46711628811212, 166.13482109126375, 169.57589522702295, 148.80266185496248, 148.72669661381238, 167.29377490626075, 152.36791250900558, 139.52225846914644, 147.14324909115192, 149.64194182892626, 150.79288069598286, 164.49966492295775, 173.70871544400353, 160.07468360058724, 148.2312127426877, 172.82425906805375, 186.2810207564302, 146.79884515371546, 138.47619896464417, 154.86813523691902, 155.25588543034164, 167.05375289698006, 150.08888974239088, 158.57709239658743, 162.91738451137826, 158.69698176057915, 194.75501491836084, 172.277982501081, 173.37352785171896, 189.09596261748572, 163.17350519163713, 181.81088132274724, 152.8664266346972, 170.0299864360064, 147.1062513597069, 148.2087265880138, 153.53017098129456, 134.70807958654044, 162.2302265873343, 185.71435717802058, 170.59038720711646, 178.6785186745779, 198.75746938471454, 178.58611115744108, 183.71612646466815, 170.14158903528323, 162.2363151659769, 169.97925046220627, 161.33854629476866, 168.85206759876522, 152.01811738217108, 206.14954858761888, 152.1252834430218, 170.342106076485, 160.01434197261386, 149.2296480791991, 162.53142993873382, 163.9696482868431, 196.01424667806987, 176.20370036873464, 160.62800802471514, 171.46816682309316, 173.70097557022189, 155.9339141498719, 154.29840197593882, 176.59942062822043, 156.3278316551087, 167.97994912085514, 173.68915563649557, 168.03532371471286, 181.92715700809518, 147.57801346906933, 137.57634744627475, 165.46950941482623, 177.86053180243835, 168.841177399844, 180.1962692913405, 166.22242605669555, 172.69485384910047, 187.29958824088658, 159.10008335208775, 160.22299105305254, 151.1851889929864, 144.6939333663687, 129.62690467126578, 143.69107071563087, 172.69277007097662, 170.23511082165712, 185.64457957175415, 159.73752114368398, 151.89926808456426, 169.36828012009818, 156.969114185299, 160.06320831032974, 155.17567686367948, 134.06463066552647, 154.8777596967054, 164.93207304483462, 184.517537292504, 178.51772043216752, 169.2874255860026, 157.36129242206272, 152.7441129273307, 177.98200297162043, 157.9513134361046, 185.26594015488442, 139.27829733213477, 173.06290744262787, 160.21378714736966, 161.5101548060177, 159.4384978819184, 158.3263247402696, 162.1023787151299, 155.95195976349447, 172.0841878991007, 168.8520279671, 193.6442091432735, 136.79557001837378, 150.7366214395087]]\n"
     ]
    }
   ],
   "source": [
    "print(all_chis)"
   ]
  },
  {
   "cell_type": "code",
   "execution_count": 113,
   "metadata": {},
   "outputs": [
    {
     "data": {
      "image/png": "[encoded data removed]",
      "text/plain": [
       "<Figure size 432x288 with 1 Axes>"
      ]
     },
     "metadata": {},
     "output_type": "display_data"
    }
   ],
   "source": [
    "import matplotlib.pyplot as plt\n",
    "\n",
    "plt.figure()\n",
    "plt.plot(chis)\n",
    "plt.plot(sigmas)\n",
    "plt.plot(Fs)\n",
    "plt.show()"
   ]
  },
  {
   "cell_type": "markdown",
   "metadata": {},
   "source": [
    "# 3. $L=8, g=0.1, \\alpha = 1.5$"
   ]
  },
  {
   "cell_type": "code",
   "execution_count": null,
   "metadata": {
    "collapsed": true
   },
   "outputs": [],
   "source": [
    "N = 5000\n",
    "alpha = -1.5\n",
    "L = 8\n",
    "\n",
    "all_sigmas = []\n",
    "all_chis = []\n",
    "all_Fs = []\n",
    "\n",
    "for g in [0.1]: #[0., 0.1]:\n",
    "    for d in [2, 3]: #[2, 3, 4]:\n",
    "        print(\"d: \", d)\n",
    "        print(\"g: \", g)\n",
    "        \n",
    "        sigmas = []\n",
    "        sigma = 0\n",
    "        \n",
    "        chis = []\n",
    "        chi = 0\n",
    "        \n",
    "        Fs = []\n",
    "        F = 0\n",
    "        \n",
    "        kappa = 1 / ( 2 * d + alpha)\n",
    "\n",
    "        lattice_signs = np.ones(L**d, dtype=int)\n",
    "        lattice_rad = np.random.uniform(size=L**d)\n",
    "\n",
    "        for i in range(N):\n",
    "            x, sites = spin_update()\n",
    "            \n",
    "            chi_i = compute_chi(x, sites)\n",
    "            chi += chi_i / N\n",
    "            chis.append(chi_i)\n",
    "            \n",
    "            F_i = compute_F(x, sites)\n",
    "            F += F_i / N\n",
    "            Fs.append(F_i)\n",
    "            \n",
    "            update_spin_at_sites(sites)\n",
    "            regular_update(g)\n",
    "\n",
    "            sigma_i = compute_sigma()\n",
    "            sigma += sigma_i / N\n",
    "            sigmas.append(sigma_i)\n",
    "        \n",
    "        M_L = 2 * (np.sin(np.pi / L)) / (np.sqrt((chi / F) - 1))\n",
    "        \n",
    "        print(\"Sigma: \", sigma)\n",
    "        print(\"Chi: \", chi)\n",
    "        print(\"F \", F)\n",
    "        print(\"M(L): \", M_L)\n",
    "        \n",
    "        all_sigmas.append(sigmas)\n",
    "        all_chis.append(chis)\n",
    "        all_Fs.append(Fs)"
   ]
  },
  {
   "cell_type": "code",
   "execution_count": null,
   "metadata": {
    "collapsed": true
   },
   "outputs": [],
   "source": []
  }
 ],
 "metadata": {
  "kernelspec": {
   "display_name": "Python 3",
   "language": "python",
   "name": "python3"
  },
  "language_info": {
   "codemirror_mode": {
    "name": "ipython",
    "version": 3
   },
   "file_extension": ".py",
   "mimetype": "text/x-python",
   "name": "python",
   "nbconvert_exporter": "python",
   "pygments_lexer": "ipython3",
   "version": "3.6.1"
  }
 },
 "nbformat": 4,
 "nbformat_minor": 2
}
